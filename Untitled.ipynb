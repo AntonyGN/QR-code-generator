{
 "cells": [
  {
   "cell_type": "code",
   "execution_count": 7,
   "id": "4490e3f5",
   "metadata": {},
   "outputs": [
    {
     "name": "stdout",
     "output_type": "stream",
     "text": [
      "Requirement already satisfied: qrcode in /opt/anaconda3/lib/python3.9/site-packages (7.4.2)\n",
      "Requirement already satisfied: typing-extensions in /opt/anaconda3/lib/python3.9/site-packages (from qrcode) (4.3.0)\n",
      "Requirement already satisfied: pypng in /opt/anaconda3/lib/python3.9/site-packages (from qrcode) (0.20220715.0)\n",
      "Note: you may need to restart the kernel to use updated packages.\n"
     ]
    }
   ],
   "source": [
    "pip install qrcode"
   ]
  },
  {
   "cell_type": "code",
   "execution_count": 1,
   "id": "bcb8da6e",
   "metadata": {},
   "outputs": [],
   "source": [
    "#import libraries\n",
    "import qrcode"
   ]
  },
  {
   "cell_type": "code",
   "execution_count": 2,
   "id": "aedc77ad",
   "metadata": {},
   "outputs": [],
   "source": [
    "#define the data to be encoded\n",
    "github_profile_url = \"https://github.com/AntonyGN\"\n",
    "data = github_profile_url"
   ]
  },
  {
   "cell_type": "code",
   "execution_count": 3,
   "id": "c07572ad",
   "metadata": {},
   "outputs": [],
   "source": [
    "#define custom QR code parameters\n",
    "box_size = 10\n",
    "border = 4"
   ]
  },
  {
   "cell_type": "code",
   "execution_count": 4,
   "id": "bdec19c1",
   "metadata": {},
   "outputs": [],
   "source": [
    "#generate the QR code with custom parameters\n",
    "qr = qrcode.QRCode(\n",
    "    version=None,\n",
    "    error_correction=qrcode.constants.ERROR_CORRECT_L,\n",
    "    box_size=box_size,\n",
    "    border=border\n",
    ")\n",
    "qr.add_data(data)\n",
    "qr.make(fit=True)"
   ]
  },
  {
   "cell_type": "code",
   "execution_count": 5,
   "id": "4ee935d4",
   "metadata": {},
   "outputs": [],
   "source": [
    "#creating an image from the QR code\n",
    "img = qr.make_image(fill_color=\"black\", back_color=\"white\")"
   ]
  },
  {
   "cell_type": "code",
   "execution_count": 6,
   "id": "2aa0ac65",
   "metadata": {},
   "outputs": [],
   "source": [
    "#save the QR code image as a PNG file\n",
    "img.save(\"github_qrcode.png\")"
   ]
  }
 ],
 "metadata": {
  "kernelspec": {
   "display_name": "Python 3 (ipykernel)",
   "language": "python",
   "name": "python3"
  },
  "language_info": {
   "codemirror_mode": {
    "name": "ipython",
    "version": 3
   },
   "file_extension": ".py",
   "mimetype": "text/x-python",
   "name": "python",
   "nbconvert_exporter": "python",
   "pygments_lexer": "ipython3",
   "version": "3.9.13"
  }
 },
 "nbformat": 4,
 "nbformat_minor": 5
}
